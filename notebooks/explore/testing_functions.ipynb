{
 "cells": [
  {
   "cell_type": "code",
   "execution_count": 9,
   "id": "1352c7b1-754b-4921-a7e7-f63179df856f",
   "metadata": {},
   "outputs": [],
   "source": [
    "import sys\n",
    "sys.path.insert(0, '/Users/yemiogoundele/Desktop/Projects/DS/vinyl-marketplace/vinyl-record-prices/vinyl_record_scraper')"
   ]
  },
  {
   "cell_type": "code",
   "execution_count": 10,
   "id": "25695429-ef57-4a56-9175-1d9dde81b21c",
   "metadata": {},
   "outputs": [],
   "source": [
    "import requests\n",
    "import json\n",
    "from discogs.api_fetcher import DiscogsAPIFetcher"
   ]
  },
  {
   "cell_type": "code",
   "execution_count": 11,
   "id": "3e9200c2-b09e-44b7-bf7c-467d3ae3e62c",
   "metadata": {},
   "outputs": [],
   "source": [
    "fetcher = DiscogsAPIFetcher(path_to_credentials_file='../../vinyl_record_scraper/config/credentials.yaml')"
   ]
  },
  {
   "cell_type": "code",
   "execution_count": 12,
   "id": "b7407ca9-8207-4f2f-a3b8-dbbbc7d9c35e",
   "metadata": {},
   "outputs": [
    {
     "data": {
      "text/plain": [
       "{'token': 'PsxKuOIYrIuLZJEGweyklVdfNyoCOUFjGSHFcfGo'}"
      ]
     },
     "execution_count": 12,
     "metadata": {},
     "output_type": "execute_result"
    }
   ],
   "source": [
    "fetcher.credentials"
   ]
  },
  {
   "cell_type": "code",
   "execution_count": 5,
   "id": "3000ddc4-9a00-4d73-8bfe-c7ac6d3d1b3d",
   "metadata": {},
   "outputs": [],
   "source": [
    "collection_request_params = {\n",
    "    \"username\":\"le_yems\",\n",
    "    \"folder_id\":0,\n",
    "    \"sort\":\"artist\"\n",
    "}"
   ]
  },
  {
   "cell_type": "code",
   "execution_count": 6,
   "id": "1b291459-732e-4e06-8f95-1b2af51d3c68",
   "metadata": {},
   "outputs": [],
   "source": [
    "yemi_collection = fetcher.retrieve_collection(endpoint_name=\"collection_releases\", request_params=collection_request_params)"
   ]
  },
  {
   "cell_type": "code",
   "execution_count": 7,
   "id": "2c50b1f6-6284-454f-a843-07641ac6adbe",
   "metadata": {},
   "outputs": [
    {
     "data": {
      "text/plain": [
       "56"
      ]
     },
     "execution_count": 7,
     "metadata": {},
     "output_type": "execute_result"
    }
   ],
   "source": [
    "len(yemi_collection)"
   ]
  },
  {
   "cell_type": "code",
   "execution_count": 12,
   "id": "908b27a2-246b-4291-a2de-da8aac2eb759",
   "metadata": {},
   "outputs": [
    {
     "data": {
      "text/plain": [
       "[{'id': 9866007,\n",
       "  'instance_id': 716756068,\n",
       "  'date_added': '2021-05-28T11:17:01-07:00',\n",
       "  'rating': 0,\n",
       "  'basic_information': {'id': 9866007,\n",
       "   'master_id': 1155389,\n",
       "   'master_url': 'https://api.discogs.com/masters/1155389',\n",
       "   'resource_url': 'https://api.discogs.com/releases/9866007',\n",
       "   'thumb': 'https://img.discogs.com/r-W3EqTimMijHnb0R3tkQGpTI2Q=/fit-in/150x150/filters:strip_icc():format(jpeg):mode_rgb():quality(40)/discogs-images/R-9866007-1574456731-8904.jpeg.jpg',\n",
       "   'cover_image': 'https://img.discogs.com/jMPcJQVi-xCNGvnNaz2ZnLeRXE8=/fit-in/600x600/filters:strip_icc():format(jpeg):mode_rgb():quality(90)/discogs-images/R-9866007-1574456731-8904.jpeg.jpg',\n",
       "   'title': 'BLD',\n",
       "   'year': 2017,\n",
       "   'formats': [{'name': 'Vinyl', 'qty': '1', 'descriptions': ['LP', 'Album']}],\n",
       "   'labels': [{'name': 'Ouïe',\n",
       "     'catno': 'OUÏE003',\n",
       "     'entity_type': '1',\n",
       "     'entity_type_name': 'Label',\n",
       "     'id': 1418598,\n",
       "     'resource_url': 'https://api.discogs.com/labels/1418598'}],\n",
       "   'artists': [{'name': 'Acid Pauli',\n",
       "     'anv': '',\n",
       "     'join': '',\n",
       "     'role': '',\n",
       "     'tracks': '',\n",
       "     'id': 101225,\n",
       "     'resource_url': 'https://api.discogs.com/artists/101225'}],\n",
       "   'genres': ['Electronic'],\n",
       "   'styles': ['Deep House', 'House', 'Tech House']},\n",
       "  'folder_id': 1},\n",
       " {'id': 15379997,\n",
       "  'instance_id': 716748409,\n",
       "  'date_added': '2021-05-28T11:08:32-07:00',\n",
       "  'rating': 0,\n",
       "  'basic_information': {'id': 15379997,\n",
       "   'master_id': 0,\n",
       "   'master_url': None,\n",
       "   'resource_url': 'https://api.discogs.com/releases/15379997',\n",
       "   'thumb': 'https://img.discogs.com/abreWJracw2ppsqjpN8qD_o89vI=/fit-in/150x150/filters:strip_icc():format(jpeg):mode_rgb():quality(40)/discogs-images/R-15379997-1590593295-3403.jpeg.jpg',\n",
       "   'cover_image': 'https://img.discogs.com/jQI7zk_QXy5w4OIFGHtUMuT60X4=/fit-in/600x600/filters:strip_icc():format(jpeg):mode_rgb():quality(90)/discogs-images/R-15379997-1590593295-3403.jpeg.jpg',\n",
       "   'title': 'Share The Wax EP',\n",
       "   'year': 2020,\n",
       "   'formats': [{'name': 'Vinyl', 'qty': '1', 'descriptions': ['12\"', 'EP']}],\n",
       "   'labels': [{'name': 'Lüüd Discs',\n",
       "     'catno': 'LUUD005',\n",
       "     'entity_type': '1',\n",
       "     'entity_type_name': 'Label',\n",
       "     'id': 1183599,\n",
       "     'resource_url': 'https://api.discogs.com/labels/1183599'}],\n",
       "   'artists': [{'name': 'Aes (6)',\n",
       "     'anv': '',\n",
       "     'join': '/',\n",
       "     'role': '',\n",
       "     'tracks': '',\n",
       "     'id': 4386563,\n",
       "     'resource_url': 'https://api.discogs.com/artists/4386563'},\n",
       "    {'name': 'Armless Kid',\n",
       "     'anv': '',\n",
       "     'join': '',\n",
       "     'role': '',\n",
       "     'tracks': '',\n",
       "     'id': 4677173,\n",
       "     'resource_url': 'https://api.discogs.com/artists/4677173'}],\n",
       "   'genres': ['Electronic'],\n",
       "   'styles': ['House', 'Electro']},\n",
       "  'folder_id': 1}]"
      ]
     },
     "execution_count": 12,
     "metadata": {},
     "output_type": "execute_result"
    }
   ],
   "source": [
    "yemi_collection[:2]"
   ]
  },
  {
   "cell_type": "code",
   "execution_count": 14,
   "id": "1856d9b3-61c0-4b76-b5b3-507772415a7a",
   "metadata": {},
   "outputs": [
    {
     "data": {
      "text/plain": [
       "dict_keys(['id', 'instance_id', 'date_added', 'rating', 'basic_information', 'folder_id'])"
      ]
     },
     "execution_count": 14,
     "metadata": {},
     "output_type": "execute_result"
    }
   ],
   "source": [
    "yemi_collection[0].keys()"
   ]
  },
  {
   "cell_type": "code",
   "execution_count": 53,
   "id": "719992a9-5e24-4a22-99d9-a5361a1a5298",
   "metadata": {},
   "outputs": [
    {
     "data": {
      "text/plain": [
       "{'id': 14720873,\n",
       " 'master_id': 1827462,\n",
       " 'master_url': 'https://api.discogs.com/masters/1827462',\n",
       " 'resource_url': 'https://api.discogs.com/releases/14720873',\n",
       " 'thumb': 'https://img.discogs.com/m7X7zrCHe5XxsPuaPtfpUwqSimg=/fit-in/150x150/filters:strip_icc():format(jpeg):mode_rgb():quality(40)/discogs-images/R-14720873-1580301460-5287.jpeg.jpg',\n",
       " 'cover_image': 'https://img.discogs.com/iD4w1Gd4MnndgXaaFTOoBeI5xgU=/fit-in/600x600/filters:strip_icc():format(jpeg):mode_rgb():quality(90)/discogs-images/R-14720873-1580301460-5287.jpeg.jpg',\n",
       " 'title': 'Pe Sub Piele SRL',\n",
       " 'year': 2020,\n",
       " 'formats': [{'name': 'Vinyl',\n",
       "   'qty': '1',\n",
       "   'text': '180 g',\n",
       "   'descriptions': ['12\"']}],\n",
       " 'labels': [{'name': 'Playedby',\n",
       "   'catno': 'Playedby009',\n",
       "   'entity_type': '1',\n",
       "   'entity_type_name': 'Label',\n",
       "   'id': 843900,\n",
       "   'resource_url': 'https://api.discogs.com/labels/843900'}],\n",
       " 'artists': [{'name': 'Alin Crihan',\n",
       "   'anv': 'Crihan',\n",
       "   'join': '',\n",
       "   'role': '',\n",
       "   'tracks': '',\n",
       "   'id': 1162860,\n",
       "   'resource_url': 'https://api.discogs.com/artists/1162860'}],\n",
       " 'genres': ['Electronic'],\n",
       " 'styles': ['Minimal']}"
      ]
     },
     "execution_count": 53,
     "metadata": {},
     "output_type": "execute_result"
    }
   ],
   "source": [
    "yemi_collection[4]['basic_information']"
   ]
  },
  {
   "cell_type": "code",
   "execution_count": 46,
   "id": "ae3f3762-993c-4a31-99cc-4b4269b9463d",
   "metadata": {},
   "outputs": [
    {
     "data": {
      "text/plain": [
       "{'id': 9866007,\n",
       " 'instance_id': 716756068,\n",
       " 'date_added': '2021-05-28T11:17:01-07:00',\n",
       " 'rating': 0,\n",
       " 'basic_information': {'id': 9866007,\n",
       "  'master_id': 1155389,\n",
       "  'master_url': 'https://api.discogs.com/masters/1155389',\n",
       "  'resource_url': 'https://api.discogs.com/releases/9866007',\n",
       "  'thumb': 'https://img.discogs.com/r-W3EqTimMijHnb0R3tkQGpTI2Q=/fit-in/150x150/filters:strip_icc():format(jpeg):mode_rgb():quality(40)/discogs-images/R-9866007-1574456731-8904.jpeg.jpg',\n",
       "  'cover_image': 'https://img.discogs.com/jMPcJQVi-xCNGvnNaz2ZnLeRXE8=/fit-in/600x600/filters:strip_icc():format(jpeg):mode_rgb():quality(90)/discogs-images/R-9866007-1574456731-8904.jpeg.jpg',\n",
       "  'title': 'BLD',\n",
       "  'year': 2017,\n",
       "  'formats': [{'name': 'Vinyl', 'qty': '1', 'descriptions': ['LP', 'Album']}],\n",
       "  'labels': [{'name': 'Ouïe',\n",
       "    'catno': 'OUÏE003',\n",
       "    'entity_type': '1',\n",
       "    'entity_type_name': 'Label',\n",
       "    'id': 1418598,\n",
       "    'resource_url': 'https://api.discogs.com/labels/1418598'}],\n",
       "  'artists': [{'name': 'Acid Pauli',\n",
       "    'anv': '',\n",
       "    'join': '',\n",
       "    'role': '',\n",
       "    'tracks': '',\n",
       "    'id': 101225,\n",
       "    'resource_url': 'https://api.discogs.com/artists/101225'}],\n",
       "  'genres': ['Electronic'],\n",
       "  'styles': ['Deep House', 'House', 'Tech House']},\n",
       " 'folder_id': 1}"
      ]
     },
     "execution_count": 46,
     "metadata": {},
     "output_type": "execute_result"
    }
   ],
   "source": [
    "yemi_collection[0]"
   ]
  },
  {
   "cell_type": "code",
   "execution_count": 47,
   "id": "9376c9e6-4e45-45d4-9910-007bac984fcd",
   "metadata": {},
   "outputs": [
    {
     "data": {
      "text/plain": [
       "dict_keys(['id', 'instance_id', 'date_added', 'rating', 'basic_information', 'folder_id'])"
      ]
     },
     "execution_count": 47,
     "metadata": {},
     "output_type": "execute_result"
    }
   ],
   "source": [
    "yemi_collection[0].keys()"
   ]
  },
  {
   "cell_type": "code",
   "execution_count": 48,
   "id": "12892cf4-15ee-4dd8-8a50-1085b8336a1f",
   "metadata": {},
   "outputs": [],
   "source": [
    "with open('../../data/collections/alain.v2.json', 'r') as f:\n",
    "    val = json.load(f)"
   ]
  },
  {
   "cell_type": "code",
   "execution_count": 49,
   "id": "a9e9c9a4-fd02-41b1-8a09-00e77686ce1a",
   "metadata": {},
   "outputs": [
    {
     "data": {
      "text/plain": [
       "22152"
      ]
     },
     "execution_count": 49,
     "metadata": {},
     "output_type": "execute_result"
    }
   ],
   "source": [
    "len(val)"
   ]
  },
  {
   "cell_type": "markdown",
   "id": "f04e6b0e-fb5f-426a-bcb4-d9d7077ce0be",
   "metadata": {},
   "source": [
    "## Release"
   ]
  },
  {
   "cell_type": "code",
   "execution_count": 13,
   "id": "5e13db6f-04d1-440d-a080-82da00d760dc",
   "metadata": {},
   "outputs": [],
   "source": [
    "release_request_params = {\n",
    "    \"release_id\": 15210114,\n",
    "    \"curr_abbr\": \"EUR\"\n",
    "}"
   ]
  },
  {
   "cell_type": "code",
   "execution_count": 15,
   "id": "fdb59d0c-8fd3-408e-9ccf-a6bae783306d",
   "metadata": {},
   "outputs": [],
   "source": [
    "release = fetcher.retrieve_release(request_params=release_request_params)"
   ]
  },
  {
   "cell_type": "code",
   "execution_count": 17,
   "id": "e2889948-bac7-4ca1-8e6a-8b4b17554dde",
   "metadata": {},
   "outputs": [
    {
     "data": {
      "text/plain": [
       "dict_keys(['id', 'status', 'year', 'resource_url', 'uri', 'artists', 'artists_sort', 'labels', 'series', 'companies', 'formats', 'data_quality', 'community', 'format_quantity', 'date_added', 'date_changed', 'num_for_sale', 'lowest_price', 'title', 'country', 'released', 'notes', 'released_formatted', 'identifiers', 'videos', 'genres', 'styles', 'tracklist', 'extraartists', 'images', 'thumb', 'estimated_weight', 'blocked_from_sale'])"
      ]
     },
     "execution_count": 17,
     "metadata": {},
     "output_type": "execute_result"
    }
   ],
   "source": [
    "release.keys()"
   ]
  },
  {
   "cell_type": "code",
   "execution_count": 19,
   "id": "8b50aa63-9b9f-4344-96e5-5c0d4fdf210d",
   "metadata": {},
   "outputs": [
    {
     "data": {
      "text/plain": [
       "[{'name': 'Alin Crihan',\n",
       "  'anv': 'Crihan',\n",
       "  'join': '',\n",
       "  'role': '',\n",
       "  'tracks': '',\n",
       "  'id': 1162860,\n",
       "  'resource_url': 'https://api.discogs.com/artists/1162860',\n",
       "  'thumbnail_url': 'https://img.discogs.com/ek7WGhR2yP9YRTgLuEzabEc-6j4=/600x600/smart/filters:strip_icc():format(jpeg):mode_rgb():quality(40)/discogs-images/A-1162860-1559800334-6095.jpeg.jpg'}]"
      ]
     },
     "execution_count": 19,
     "metadata": {},
     "output_type": "execute_result"
    }
   ],
   "source": [
    "release['artists']"
   ]
  },
  {
   "cell_type": "code",
   "execution_count": 20,
   "id": "d8319ce2-a8fd-4da4-9c69-f688acf99150",
   "metadata": {},
   "outputs": [
    {
     "data": {
      "text/plain": [
       "[{'name': 'UVAR',\n",
       "  'catno': 'UVAR012',\n",
       "  'entity_type': '1',\n",
       "  'entity_type_name': 'Label',\n",
       "  'id': 601952,\n",
       "  'resource_url': 'https://api.discogs.com/labels/601952',\n",
       "  'thumbnail_url': 'https://img.discogs.com/fR7o4FrD_6VGp443X3WNLmJeqU8=/fit-in/250x250/filters:strip_icc():format(jpeg):mode_rgb():quality(40)/discogs-images/L-601952-1417785086-9550.jpeg.jpg'}]"
      ]
     },
     "execution_count": 20,
     "metadata": {},
     "output_type": "execute_result"
    }
   ],
   "source": [
    "release['labels']"
   ]
  },
  {
   "cell_type": "code",
   "execution_count": 21,
   "id": "44216d17-7a12-4c42-8e47-3d234dac6d1a",
   "metadata": {},
   "outputs": [
    {
     "data": {
      "text/plain": [
       "{'have': 91,\n",
       " 'want': 66,\n",
       " 'rating': {'count': 12, 'average': 4.42},\n",
       " 'submitter': {'username': 'deejay.de.',\n",
       "  'resource_url': 'https://api.discogs.com/users/deejay.de.'},\n",
       " 'contributors': [{'username': 'deejay.de.',\n",
       "   'resource_url': 'https://api.discogs.com/users/deejay.de.'},\n",
       "  {'username': 'acrihan',\n",
       "   'resource_url': 'https://api.discogs.com/users/acrihan'},\n",
       "  {'username': 'horney1',\n",
       "   'resource_url': 'https://api.discogs.com/users/horney1'}],\n",
       " 'data_quality': 'Needs Vote',\n",
       " 'status': 'Accepted'}"
      ]
     },
     "execution_count": 21,
     "metadata": {},
     "output_type": "execute_result"
    }
   ],
   "source": [
    "release['community']"
   ]
  },
  {
   "cell_type": "code",
   "execution_count": 18,
   "id": "5c38e5d8-f9d3-4aec-9b50-f0f10d036591",
   "metadata": {},
   "outputs": [
    {
     "data": {
      "text/plain": [
       "{'id': 15210114,\n",
       " 'status': 'Accepted',\n",
       " 'year': 2020,\n",
       " 'resource_url': 'https://api.discogs.com/releases/15210114',\n",
       " 'uri': 'https://www.discogs.com/release/15210114-Crihan-Autostrada-Soarelui-LP',\n",
       " 'artists': [{'name': 'Alin Crihan',\n",
       "   'anv': 'Crihan',\n",
       "   'join': '',\n",
       "   'role': '',\n",
       "   'tracks': '',\n",
       "   'id': 1162860,\n",
       "   'resource_url': 'https://api.discogs.com/artists/1162860',\n",
       "   'thumbnail_url': 'https://img.discogs.com/ek7WGhR2yP9YRTgLuEzabEc-6j4=/600x600/smart/filters:strip_icc():format(jpeg):mode_rgb():quality(40)/discogs-images/A-1162860-1559800334-6095.jpeg.jpg'}],\n",
       " 'artists_sort': 'Alin Crihan',\n",
       " 'labels': [{'name': 'UVAR',\n",
       "   'catno': 'UVAR012',\n",
       "   'entity_type': '1',\n",
       "   'entity_type_name': 'Label',\n",
       "   'id': 601952,\n",
       "   'resource_url': 'https://api.discogs.com/labels/601952',\n",
       "   'thumbnail_url': 'https://img.discogs.com/fR7o4FrD_6VGp443X3WNLmJeqU8=/fit-in/250x250/filters:strip_icc():format(jpeg):mode_rgb():quality(40)/discogs-images/L-601952-1417785086-9550.jpeg.jpg'}],\n",
       " 'series': [],\n",
       " 'companies': [{'name': 'Dial Audio',\n",
       "   'catno': '',\n",
       "   'entity_type': '29',\n",
       "   'entity_type_name': 'Mastered At',\n",
       "   'id': 791872,\n",
       "   'resource_url': 'https://api.discogs.com/labels/791872',\n",
       "   'thumbnail_url': 'https://img.discogs.com/UkRJ9mi6_QeXnG80rmbdEiV3JD0=/fit-in/600x600/filters:strip_icc():format(jpeg):mode_rgb():quality(40)/discogs-images/L-791872-1421748252-2756.jpeg.jpg'},\n",
       "  {'name': 'VinylFuture.com',\n",
       "   'catno': '',\n",
       "   'entity_type': '9',\n",
       "   'entity_type_name': 'Distributed By',\n",
       "   'id': 1032436,\n",
       "   'resource_url': 'https://api.discogs.com/labels/1032436',\n",
       "   'thumbnail_url': 'https://img.discogs.com/nYiUK-U-a1keOfunB-SDeWfE2rY=/fit-in/180x180/filters:strip_icc():format(jpeg):mode_rgb():quality(40)/discogs-images/L-1032436-1467410691-3430.png.jpg'}],\n",
       " 'formats': [{'name': 'Vinyl',\n",
       "   'qty': '2',\n",
       "   'text': '180g',\n",
       "   'descriptions': ['LP']}],\n",
       " 'data_quality': 'Needs Vote',\n",
       " 'community': {'have': 91,\n",
       "  'want': 66,\n",
       "  'rating': {'count': 12, 'average': 4.42},\n",
       "  'submitter': {'username': 'deejay.de.',\n",
       "   'resource_url': 'https://api.discogs.com/users/deejay.de.'},\n",
       "  'contributors': [{'username': 'deejay.de.',\n",
       "    'resource_url': 'https://api.discogs.com/users/deejay.de.'},\n",
       "   {'username': 'acrihan',\n",
       "    'resource_url': 'https://api.discogs.com/users/acrihan'},\n",
       "   {'username': 'horney1',\n",
       "    'resource_url': 'https://api.discogs.com/users/horney1'}],\n",
       "  'data_quality': 'Needs Vote',\n",
       "  'status': 'Accepted'},\n",
       " 'format_quantity': 2,\n",
       " 'date_added': '2020-04-29T02:02:42-07:00',\n",
       " 'date_changed': '2020-05-11T04:47:42-07:00',\n",
       " 'num_for_sale': 5,\n",
       " 'lowest_price': 24.83,\n",
       " 'title': 'Autostrada Soarelui LP',\n",
       " 'country': 'Romania',\n",
       " 'released': '2020-04-24',\n",
       " 'notes': 'All Rights Reserved © 2020 Uvar',\n",
       " 'released_formatted': '24 Apr 2020',\n",
       " 'identifiers': [{'type': 'Matrix / Runout',\n",
       "   'value': 'Matrix / Runout (Side A runout - etched) V50242 A1 UVAR012'},\n",
       "  {'type': 'Matrix / Runout',\n",
       "   'value': 'Matrix / Runout (Side B runout - etched) V50242 B1 UVAR012'},\n",
       "  {'type': 'Matrix / Runout',\n",
       "   'value': 'Matrix / Runout (Side C runout - etched) V50244 A1 UVAR012'},\n",
       "  {'type': 'Matrix / Runout',\n",
       "   'value': 'Matrix / Runout (Side D runout - etched) V50244 B1 UVAR012'}],\n",
       " 'videos': [{'uri': 'https://www.youtube.com/watch?v=p6bx8oQUu4c',\n",
       "   'title': 'Crihan - Editura Estivala (feat. Vladimir Giurgiu) [UVAR012]',\n",
       "   'description': 'https://playedby.club/\\nhttps://www.facebook.com/playedbyclub/\\nBUY: https://www.deejay.de/crihan_autostrada_soarelui_LP_2x12_UVAR012_Vinyl__940304\\nFollow Crihan: https://www.facebook.com/Alin.Crihan/\\nFollow UVAR: https://www.facebook.com/uvarmusic/',\n",
       "   'duration': 474,\n",
       "   'embed': True},\n",
       "  {'uri': 'https://www.youtube.com/watch?v=buajiqQA2iI',\n",
       "   'title': 'Crihan - Gazeta Olimp [UVAR012]',\n",
       "   'description': 'https://playedby.club/\\nhttps://www.facebook.com/playedbyclub/\\nBUY: https://www.deejay.de/crihan_autostrada_soarelui_LP_2x12_UVAR012_Vinyl__940304\\nFollow Crihan: https://www.facebook.com/Alin.Crihan/\\nFollow UVAR: https://www.facebook.com/uvarmusic/',\n",
       "   'duration': 481,\n",
       "   'embed': True},\n",
       "  {'uri': 'https://www.youtube.com/watch?v=uS0s7vKklWA',\n",
       "   'title': 'Crihan - Eforie Sub [UVAR012]',\n",
       "   'description': 'https://playedby.club/\\nhttps://www.facebook.com/playedbyclub/\\nBUY: https://www.deejay.de/crihan_autostrada_soarelui_LP_2x12_UVAR012_Vinyl__940304\\nFollow Crihan: https://www.facebook.com/Alin.Crihan/\\nFollow UVAR: https://www.facebook.com/uvarmusic/',\n",
       "   'duration': 698,\n",
       "   'embed': True},\n",
       "  {'uri': 'https://www.youtube.com/watch?v=ztYKld2rStI',\n",
       "   'title': 'Crihan - Hotel Mzr [UVAR012]',\n",
       "   'description': 'https://playedby.club/\\nhttps://www.facebook.com/playedbyclub/\\nBUY: https://www.deejay.de/crihan_autostrada_soarelui_LP_2x12_UVAR012_Vinyl__940304\\nFollow Crihan: https://www.facebook.com/Alin.Crihan/\\nFollow UVAR: https://www.facebook.com/uvarmusic/',\n",
       "   'duration': 476,\n",
       "   'embed': True},\n",
       "  {'uri': 'https://www.youtube.com/watch?v=7PDj8g3fe4c',\n",
       "   'title': 'Crihan - Ducele De Chilia [UVAR012]',\n",
       "   'description': 'https://playedby.club/\\nhttps://www.facebook.com/playedbyclub/\\nBUY: https://www.deejay.de/crihan_autostrada_soarelui_LP_2x12_UVAR012_Vinyl__940304\\nFollow Crihan: https://www.facebook.com/Alin.Crihan/\\nFollow UVAR: https://www.facebook.com/uvarmusic/',\n",
       "   'duration': 501,\n",
       "   'embed': True},\n",
       "  {'uri': 'https://www.youtube.com/watch?v=G9DQNP57mJI',\n",
       "   'title': 'Crihan - Faleza Neptun [UVAR012]',\n",
       "   'description': 'https://playedby.club/\\nhttps://www.facebook.com/playedbyclub/\\nBUY: https://www.deejay.de/crihan_autostrada_soarelui_LP_2x12_UVAR012_Vinyl__940304\\nFollow Crihan: https://www.facebook.com/Alin.Crihan/\\nFollow UVAR: https://www.facebook.com/uvarmusic/',\n",
       "   'duration': 696,\n",
       "   'embed': True}],\n",
       " 'genres': ['Electronic'],\n",
       " 'styles': ['Minimal'],\n",
       " 'tracklist': [{'position': 'A1',\n",
       "   'type_': 'track',\n",
       "   'title': 'Editura Estivala (feat. Vladimir Giurgiu)',\n",
       "   'extraartists': [{'name': 'Vladimir Giurgiu',\n",
       "     'anv': '',\n",
       "     'join': '',\n",
       "     'role': 'Featuring',\n",
       "     'tracks': '',\n",
       "     'id': 7842060,\n",
       "     'resource_url': 'https://api.discogs.com/artists/7842060',\n",
       "     'thumbnail_url': 'https://img.discogs.com/eUDnK46JugAkhLiCBqzemGLtCLQ=/600x602/smart/filters:strip_icc():format(jpeg):mode_rgb():quality(40)/discogs-images/A-7842060-1630358988-2849.jpeg.jpg'}],\n",
       "   'duration': ''},\n",
       "  {'position': 'A2',\n",
       "   'type_': 'track',\n",
       "   'title': 'Gazeta Olimp',\n",
       "   'duration': ''},\n",
       "  {'position': 'B1', 'type_': 'track', 'title': 'Eforie Sub', 'duration': ''},\n",
       "  {'position': 'C1', 'type_': 'track', 'title': 'Hotel Mzr', 'duration': ''},\n",
       "  {'position': 'C2',\n",
       "   'type_': 'track',\n",
       "   'title': 'Ducele De Chilia',\n",
       "   'duration': ''},\n",
       "  {'position': 'D1',\n",
       "   'type_': 'track',\n",
       "   'title': 'Faleza Neptun',\n",
       "   'duration': ''}],\n",
       " 'extraartists': [{'name': 'Andre Malware',\n",
       "   'anv': '',\n",
       "   'join': '',\n",
       "   'role': 'Artwork By',\n",
       "   'tracks': '',\n",
       "   'id': 6158032,\n",
       "   'resource_url': 'https://api.discogs.com/artists/6158032',\n",
       "   'thumbnail_url': ''},\n",
       "  {'name': 'Alin Crihan',\n",
       "   'anv': '',\n",
       "   'join': '',\n",
       "   'role': 'Written-By, Producer',\n",
       "   'tracks': '',\n",
       "   'id': 1162860,\n",
       "   'resource_url': 'https://api.discogs.com/artists/1162860',\n",
       "   'thumbnail_url': 'https://img.discogs.com/ek7WGhR2yP9YRTgLuEzabEc-6j4=/600x600/smart/filters:strip_icc():format(jpeg):mode_rgb():quality(40)/discogs-images/A-1162860-1559800334-6095.jpeg.jpg'}],\n",
       " 'images': [{'type': 'primary',\n",
       "   'uri': 'https://img.discogs.com/3RGCuSleVhv44SS8VIpaqjGbGRs=/fit-in/600x600/filters:strip_icc():format(jpeg):mode_rgb():quality(90)/discogs-images/R-15210114-1589196742-7887.jpeg.jpg',\n",
       "   'resource_url': 'https://img.discogs.com/3RGCuSleVhv44SS8VIpaqjGbGRs=/fit-in/600x600/filters:strip_icc():format(jpeg):mode_rgb():quality(90)/discogs-images/R-15210114-1589196742-7887.jpeg.jpg',\n",
       "   'uri150': 'https://img.discogs.com/fNLPi_GAJrYI4CGLvFkPg7mofm4=/fit-in/150x150/filters:strip_icc():format(jpeg):mode_rgb():quality(40)/discogs-images/R-15210114-1589196742-7887.jpeg.jpg',\n",
       "   'width': 600,\n",
       "   'height': 600},\n",
       "  {'type': 'secondary',\n",
       "   'uri': 'https://img.discogs.com/XAliAfhNpg8iDqLwyqgTh5_SG7M=/fit-in/600x600/filters:strip_icc():format(jpeg):mode_rgb():quality(90)/discogs-images/R-15210114-1589196750-1714.jpeg.jpg',\n",
       "   'resource_url': 'https://img.discogs.com/XAliAfhNpg8iDqLwyqgTh5_SG7M=/fit-in/600x600/filters:strip_icc():format(jpeg):mode_rgb():quality(90)/discogs-images/R-15210114-1589196750-1714.jpeg.jpg',\n",
       "   'uri150': 'https://img.discogs.com/oSTx57nGdcKFlAnUlSMnDXIxf8E=/fit-in/150x150/filters:strip_icc():format(jpeg):mode_rgb():quality(40)/discogs-images/R-15210114-1589196750-1714.jpeg.jpg',\n",
       "   'width': 600,\n",
       "   'height': 600},\n",
       "  {'type': 'secondary',\n",
       "   'uri': 'https://img.discogs.com/GPX64XeuKdd3nuXwUPk_piHqsW8=/fit-in/600x600/filters:strip_icc():format(jpeg):mode_rgb():quality(90)/discogs-images/R-15210114-1589196802-4984.jpeg.jpg',\n",
       "   'resource_url': 'https://img.discogs.com/GPX64XeuKdd3nuXwUPk_piHqsW8=/fit-in/600x600/filters:strip_icc():format(jpeg):mode_rgb():quality(90)/discogs-images/R-15210114-1589196802-4984.jpeg.jpg',\n",
       "   'uri150': 'https://img.discogs.com/owoOmlWFxWl74ky9pzuCYB8xSv0=/fit-in/150x150/filters:strip_icc():format(jpeg):mode_rgb():quality(40)/discogs-images/R-15210114-1589196802-4984.jpeg.jpg',\n",
       "   'width': 600,\n",
       "   'height': 600},\n",
       "  {'type': 'secondary',\n",
       "   'uri': 'https://img.discogs.com/kR6cPMe01Fz0inQxcAFUxGJHbJA=/fit-in/600x600/filters:strip_icc():format(jpeg):mode_rgb():quality(90)/discogs-images/R-15210114-1589196806-6824.jpeg.jpg',\n",
       "   'resource_url': 'https://img.discogs.com/kR6cPMe01Fz0inQxcAFUxGJHbJA=/fit-in/600x600/filters:strip_icc():format(jpeg):mode_rgb():quality(90)/discogs-images/R-15210114-1589196806-6824.jpeg.jpg',\n",
       "   'uri150': 'https://img.discogs.com/NOgyyd-oQbXH7VhCsvzsX1neW30=/fit-in/150x150/filters:strip_icc():format(jpeg):mode_rgb():quality(40)/discogs-images/R-15210114-1589196806-6824.jpeg.jpg',\n",
       "   'width': 600,\n",
       "   'height': 600},\n",
       "  {'type': 'secondary',\n",
       "   'uri': 'https://img.discogs.com/H3z2VtTERzpDBWJWhVTHqy7boe0=/fit-in/600x600/filters:strip_icc():format(jpeg):mode_rgb():quality(90)/discogs-images/R-15210114-1589196816-6367.jpeg.jpg',\n",
       "   'resource_url': 'https://img.discogs.com/H3z2VtTERzpDBWJWhVTHqy7boe0=/fit-in/600x600/filters:strip_icc():format(jpeg):mode_rgb():quality(90)/discogs-images/R-15210114-1589196816-6367.jpeg.jpg',\n",
       "   'uri150': 'https://img.discogs.com/rTSV06so_C7OCnOQ9wFJCVgX6pQ=/fit-in/150x150/filters:strip_icc():format(jpeg):mode_rgb():quality(40)/discogs-images/R-15210114-1589196816-6367.jpeg.jpg',\n",
       "   'width': 600,\n",
       "   'height': 600},\n",
       "  {'type': 'secondary',\n",
       "   'uri': 'https://img.discogs.com/w3rcnuQ4q26ehBxMHBuO3BjlLC4=/fit-in/600x600/filters:strip_icc():format(jpeg):mode_rgb():quality(90)/discogs-images/R-15210114-1589196822-3765.jpeg.jpg',\n",
       "   'resource_url': 'https://img.discogs.com/w3rcnuQ4q26ehBxMHBuO3BjlLC4=/fit-in/600x600/filters:strip_icc():format(jpeg):mode_rgb():quality(90)/discogs-images/R-15210114-1589196822-3765.jpeg.jpg',\n",
       "   'uri150': 'https://img.discogs.com/2JmG5HP0IikxFu6tIagZbsCaG9k=/fit-in/150x150/filters:strip_icc():format(jpeg):mode_rgb():quality(40)/discogs-images/R-15210114-1589196822-3765.jpeg.jpg',\n",
       "   'width': 600,\n",
       "   'height': 600}],\n",
       " 'thumb': 'https://img.discogs.com/fNLPi_GAJrYI4CGLvFkPg7mofm4=/fit-in/150x150/filters:strip_icc():format(jpeg):mode_rgb():quality(40)/discogs-images/R-15210114-1589196742-7887.jpeg.jpg',\n",
       " 'estimated_weight': 460,\n",
       " 'blocked_from_sale': False}"
      ]
     },
     "execution_count": 18,
     "metadata": {},
     "output_type": "execute_result"
    }
   ],
   "source": [
    "release"
   ]
  },
  {
   "cell_type": "code",
   "execution_count": null,
   "id": "3697b9f9-e820-4d52-9ef7-1869706498e0",
   "metadata": {},
   "outputs": [],
   "source": []
  }
 ],
 "metadata": {
  "kernelspec": {
   "display_name": "Python 3 (ipykernel)",
   "language": "python",
   "name": "python3"
  },
  "language_info": {
   "codemirror_mode": {
    "name": "ipython",
    "version": 3
   },
   "file_extension": ".py",
   "mimetype": "text/x-python",
   "name": "python",
   "nbconvert_exporter": "python",
   "pygments_lexer": "ipython3",
   "version": "3.9.0"
  }
 },
 "nbformat": 4,
 "nbformat_minor": 5
}
