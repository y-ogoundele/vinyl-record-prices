{
 "cells": [
  {
   "cell_type": "code",
   "execution_count": 1,
   "id": "7e3efb7a-1c4b-483a-85fb-8f5f15f339d0",
   "metadata": {},
   "outputs": [],
   "source": [
    "import requests\n",
    "import json\n",
    "import yaml"
   ]
  },
  {
   "cell_type": "code",
   "execution_count": 2,
   "id": "fff612c7-1bc0-4081-81ee-30a16abdcae6",
   "metadata": {},
   "outputs": [],
   "source": [
    "import pandas\n",
    "import numpy"
   ]
  },
  {
   "cell_type": "markdown",
   "id": "ec04813e-51c7-4e29-91df-f1e36b625ae6",
   "metadata": {},
   "source": [
    "## Retrieving my credentials"
   ]
  },
  {
   "cell_type": "code",
   "execution_count": 3,
   "id": "007c0fb7-71c2-471e-bba4-c18818c63436",
   "metadata": {},
   "outputs": [],
   "source": [
    "with open(\"../../vinyl_record_scraper/config/credentials.yaml\", \"r\") as creds:\n",
    "    try:\n",
    "        credentials = yaml.safe_load(creds)\n",
    "    except yaml.YAMLError as exc:\n",
    "        print(exc)"
   ]
  },
  {
   "cell_type": "code",
   "execution_count": 4,
   "id": "f302fe57-2c4e-493a-b8f1-32f566e19714",
   "metadata": {},
   "outputs": [
    {
     "data": {
      "text/plain": [
       "{'discogs-api': {'token': 'PsxKuOIYrIuLZJEGweyklVdfNyoCOUFjGSHFcfGo'}}"
      ]
     },
     "execution_count": 4,
     "metadata": {},
     "output_type": "execute_result"
    }
   ],
   "source": [
    "credentials"
   ]
  },
  {
   "cell_type": "markdown",
   "id": "fad79d64-0b9b-4ae3-b1c0-aec896da0fa4",
   "metadata": {},
   "source": [
    "## Retrieving my record collection"
   ]
  },
  {
   "cell_type": "code",
   "execution_count": 29,
   "id": "837ded0d-cec8-42d9-a01f-a1eb0843fb29",
   "metadata": {},
   "outputs": [],
   "source": [
    "url = \"https://api.discogs.com/users/le_yems/collection/folders/0/releases\"\n",
    "params = {\n",
    "    \"token\": credentials['discogs-api']['token'],\n",
    "    \"page\":1\n",
    "}"
   ]
  },
  {
   "cell_type": "code",
   "execution_count": 37,
   "id": "fdaaf1da-7aa3-43b0-9cac-5f80e137806b",
   "metadata": {},
   "outputs": [],
   "source": [
    "response = requests.get(url=url, params=params)"
   ]
  },
  {
   "cell_type": "code",
   "execution_count": 38,
   "id": "5d70fae5-53b7-4d92-b80e-09ddc66f0006",
   "metadata": {},
   "outputs": [
    {
     "data": {
      "text/plain": [
       "True"
      ]
     },
     "execution_count": 38,
     "metadata": {},
     "output_type": "execute_result"
    }
   ],
   "source": [
    "response.ok"
   ]
  },
  {
   "cell_type": "code",
   "execution_count": 39,
   "id": "93a12057-8e22-48c1-8405-695e5c07ad01",
   "metadata": {},
   "outputs": [
    {
     "data": {
      "text/plain": [
       "'60'"
      ]
     },
     "execution_count": 39,
     "metadata": {},
     "output_type": "execute_result"
    }
   ],
   "source": [
    "response.headers['X-Discogs-Ratelimit-Remaining']"
   ]
  },
  {
   "cell_type": "code",
   "execution_count": 40,
   "id": "4902f39a-d291-47ae-abb3-722785dd082a",
   "metadata": {},
   "outputs": [],
   "source": [
    "collection = json.loads(response.text)"
   ]
  },
  {
   "cell_type": "code",
   "execution_count": 43,
   "id": "09ff6f91-4191-425a-b5c2-8a1147e5e26c",
   "metadata": {},
   "outputs": [
    {
     "data": {
      "text/plain": [
       "dict_keys(['pagination', 'releases'])"
      ]
     },
     "execution_count": 43,
     "metadata": {},
     "output_type": "execute_result"
    }
   ],
   "source": [
    "collection.keys()"
   ]
  },
  {
   "cell_type": "code",
   "execution_count": 41,
   "id": "1817c6f5-bda8-4665-a366-909c1677f22b",
   "metadata": {},
   "outputs": [
    {
     "data": {
      "text/plain": [
       "{'page': 1,\n",
       " 'pages': 2,\n",
       " 'per_page': 50,\n",
       " 'items': 56,\n",
       " 'urls': {'last': 'https://api.discogs.com/users/le_yems/collection/folders/0/releases?token=PsxKuOIYrIuLZJEGweyklVdfNyoCOUFjGSHFcfGo&page=2&per_page=50',\n",
       "  'next': 'https://api.discogs.com/users/le_yems/collection/folders/0/releases?token=PsxKuOIYrIuLZJEGweyklVdfNyoCOUFjGSHFcfGo&page=2&per_page=50'}}"
      ]
     },
     "execution_count": 41,
     "metadata": {},
     "output_type": "execute_result"
    }
   ],
   "source": [
    "collection['pagination']"
   ]
  },
  {
   "cell_type": "code",
   "execution_count": null,
   "id": "0d28ad19-cc3a-4452-8b86-15adbe6b2f15",
   "metadata": {},
   "outputs": [],
   "source": [
    "len(collection['releases'])"
   ]
  },
  {
   "cell_type": "code",
   "execution_count": 11,
   "id": "8e740048-b872-4435-b178-1e6577684af1",
   "metadata": {},
   "outputs": [
    {
     "data": {
      "text/plain": [
       "{'id': 17476438,\n",
       " 'instance_id': 716464837,\n",
       " 'date_added': '2021-05-28T04:59:09-07:00',\n",
       " 'rating': 0,\n",
       " 'basic_information': {'id': 17476438,\n",
       "  'master_id': 0,\n",
       "  'master_url': None,\n",
       "  'resource_url': 'https://api.discogs.com/releases/17476438',\n",
       "  'thumb': 'https://img.discogs.com/MyMuO1LoSoBXZpfcEyYJhXm0BBQ=/fit-in/150x150/filters:strip_icc():format(jpeg):mode_rgb():quality(40)/discogs-images/R-17476438-1634225215-7972.jpeg.jpg',\n",
       "  'cover_image': 'https://img.discogs.com/dgHk7ZEvKkRQHaObjYQgux5yLYs=/fit-in/600x600/filters:strip_icc():format(jpeg):mode_rgb():quality(90)/discogs-images/R-17476438-1634225215-7972.jpeg.jpg',\n",
       "  'title': 'Anume EP',\n",
       "  'year': 2021,\n",
       "  'formats': [{'name': 'Vinyl',\n",
       "    'qty': '1',\n",
       "    'descriptions': ['12\"', '33 ⅓ RPM', '45 RPM', 'EP']}],\n",
       "  'labels': [{'name': '[a:rpia:r]',\n",
       "    'catno': '[a:rpia:r] 16',\n",
       "    'entity_type': '1',\n",
       "    'entity_type_name': 'Label',\n",
       "    'id': 84566,\n",
       "    'resource_url': 'https://api.discogs.com/labels/84566'}],\n",
       "  'artists': [{'name': 'Dubtil',\n",
       "    'anv': '',\n",
       "    'join': '',\n",
       "    'role': '',\n",
       "    'tracks': '',\n",
       "    'id': 3223087,\n",
       "    'resource_url': 'https://api.discogs.com/artists/3223087'}],\n",
       "  'genres': ['Electronic'],\n",
       "  'styles': ['Minimal', 'Tech House']},\n",
       " 'folder_id': 1}"
      ]
     },
     "execution_count": 11,
     "metadata": {},
     "output_type": "execute_result"
    }
   ],
   "source": [
    "collection['releases'][0]"
   ]
  },
  {
   "cell_type": "code",
   "execution_count": 12,
   "id": "f5c92463-a22a-4462-aa6b-b3d667308444",
   "metadata": {},
   "outputs": [
    {
     "data": {
      "text/plain": [
       "(17476438,\n",
       " [{'name': '[a:rpia:r]',\n",
       "   'catno': '[a:rpia:r] 16',\n",
       "   'entity_type': '1',\n",
       "   'entity_type_name': 'Label',\n",
       "   'id': 84566,\n",
       "   'resource_url': 'https://api.discogs.com/labels/84566'}],\n",
       " [{'name': 'Dubtil',\n",
       "   'anv': '',\n",
       "   'join': '',\n",
       "   'role': '',\n",
       "   'tracks': '',\n",
       "   'id': 3223087,\n",
       "   'resource_url': 'https://api.discogs.com/artists/3223087'}])"
      ]
     },
     "execution_count": 12,
     "metadata": {},
     "output_type": "execute_result"
    }
   ],
   "source": [
    "collection['releases'][0]['id'], collection['releases'][0]['basic_information']['labels'], collection['releases'][0]['basic_information']['artists']"
   ]
  },
  {
   "cell_type": "markdown",
   "id": "17d65318-4b99-40fa-af7e-7bad57774889",
   "metadata": {},
   "source": [
    "## Retrieving a release in particular"
   ]
  },
  {
   "cell_type": "code",
   "execution_count": 44,
   "id": "95a92c32-5d48-4854-b1a7-6da55b14bd0c",
   "metadata": {},
   "outputs": [],
   "source": [
    "release_url = \"https://api.discogs.com/releases/6559669\""
   ]
  },
  {
   "cell_type": "code",
   "execution_count": 47,
   "id": "6638ebd6-530b-4ace-ad24-08e8dbc48f84",
   "metadata": {},
   "outputs": [],
   "source": [
    "response = requests.get(url=release_url, params=params)"
   ]
  },
  {
   "cell_type": "code",
   "execution_count": 50,
   "id": "d12fba6f-be30-4adc-962f-e25733aa4e1d",
   "metadata": {},
   "outputs": [
    {
     "ename": "KeyError",
     "evalue": "'pagination'",
     "output_type": "error",
     "traceback": [
      "\u001b[0;31m---------------------------------------------------------------------------\u001b[0m",
      "\u001b[0;31mKeyError\u001b[0m                                  Traceback (most recent call last)",
      "\u001b[0;32m/var/folders/8f/gnkzhpdx2sbg2m3q91g47bpc0000gn/T/ipykernel_96254/3252538671.py\u001b[0m in \u001b[0;36m<module>\u001b[0;34m\u001b[0m\n\u001b[0;32m----> 1\u001b[0;31m \u001b[0mjson\u001b[0m\u001b[0;34m.\u001b[0m\u001b[0mloads\u001b[0m\u001b[0;34m(\u001b[0m\u001b[0mresponse\u001b[0m\u001b[0;34m.\u001b[0m\u001b[0mtext\u001b[0m\u001b[0;34m)\u001b[0m\u001b[0;34m[\u001b[0m\u001b[0;34m'pagination'\u001b[0m\u001b[0;34m]\u001b[0m\u001b[0;34m\u001b[0m\u001b[0;34m\u001b[0m\u001b[0m\n\u001b[0m",
      "\u001b[0;31mKeyError\u001b[0m: 'pagination'"
     ]
    }
   ],
   "source": [
    "json.loads(response.text)['pagination']"
   ]
  },
  {
   "cell_type": "code",
   "execution_count": 51,
   "id": "936f7dbe-2596-4322-b144-d885fed80de0",
   "metadata": {},
   "outputs": [
    {
     "data": {
      "text/plain": [
       "{'Date': 'Sat, 04 Dec 2021 01:02:36 GMT', 'Content-Type': 'application/json', 'Transfer-Encoding': 'chunked', 'Connection': 'keep-alive', 'Vary': 'Accept-Encoding', 'X-Discogs-Ratelimit': '60', 'X-Discogs-Ratelimit-Remaining': '59', 'X-Discogs-Ratelimit-Used': '1', 'Access-Control-Allow-Headers': 'Content-Type, authorization, User-Agent, Private-Auth-Secret, Discogs-UID', 'Access-Control-Allow-Methods': 'HEAD,OPTIONS,GET,OPTIONS', 'Access-Control-Expose-Headers': 'Location', 'Content-Language': 'en', 'X-Discogs-Media-Type': 'discogs.v2', 'Access-Control-Allow-Origin': '*', 'X-Frame-Options': 'SAMEORIGIN', 'X-XSS-Protection': '1; mode=block', 'X-Content-Type-Options': 'nosniff', 'Cache-Control': 'public, must-revalidate', 'Content-Encoding': 'gzip', 'Strict-Transport-Security': 'max-age=15724800', 'CF-Cache-Status': 'DYNAMIC', 'Expect-CT': 'max-age=604800, report-uri=\"https://report-uri.cloudflare.com/cdn-cgi/beacon/expect-ct\"', 'Set-Cookie': '__cf_bm=td9h2vlpjT4KOHAXS9HIGDmzmXatwGDbx7pleNfelaQ-1638579756-0-AcYe5myzUG28qe9NQyPR3OQOXYBkSf17FzQVCRPdZZ+JJf1Oly9rQrP9yCYgyoQnyv9Dcb5/jjGiIt/w7t0assI=; path=/; expires=Sat, 04-Dec-21 01:32:36 GMT; domain=.discogs.com; HttpOnly; Secure; SameSite=None', 'Server': 'cloudflare', 'CF-RAY': '6b811c35cf394be9-AMS'}"
      ]
     },
     "execution_count": 51,
     "metadata": {},
     "output_type": "execute_result"
    }
   ],
   "source": [
    "response.headers"
   ]
  },
  {
   "cell_type": "code",
   "execution_count": null,
   "id": "2d17d73c-cb58-469b-8aa3-8010c6a51734",
   "metadata": {},
   "outputs": [],
   "source": []
  }
 ],
 "metadata": {
  "kernelspec": {
   "display_name": "Python 3 (ipykernel)",
   "language": "python",
   "name": "python3"
  },
  "language_info": {
   "codemirror_mode": {
    "name": "ipython",
    "version": 3
   },
   "file_extension": ".py",
   "mimetype": "text/x-python",
   "name": "python",
   "nbconvert_exporter": "python",
   "pygments_lexer": "ipython3",
   "version": "3.9.0"
  }
 },
 "nbformat": 4,
 "nbformat_minor": 5
}
