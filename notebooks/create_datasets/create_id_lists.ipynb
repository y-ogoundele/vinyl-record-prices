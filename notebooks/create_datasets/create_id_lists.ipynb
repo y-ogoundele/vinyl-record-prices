{
 "cells": [
  {
   "cell_type": "code",
   "execution_count": 21,
   "id": "ac72869c-498c-4203-b3b0-2fdaa078224b",
   "metadata": {},
   "outputs": [],
   "source": [
    "import pandas as pd\n",
    "import itertools\n",
    "import pickle\n",
    "import os\n",
    "import json"
   ]
  },
  {
   "cell_type": "code",
   "execution_count": 2,
   "id": "dfb26513-1508-4590-be0c-cb444949978e",
   "metadata": {},
   "outputs": [],
   "source": [
    "df = pd.read_csv('../../data/collections/flat/collections.csv')"
   ]
  },
  {
   "cell_type": "code",
   "execution_count": 3,
   "id": "3236ac6a-5b17-4e78-90c5-1b7c1c9d825e",
   "metadata": {},
   "outputs": [
    {
     "data": {
      "text/html": [
       "<div>\n",
       "<style scoped>\n",
       "    .dataframe tbody tr th:only-of-type {\n",
       "        vertical-align: middle;\n",
       "    }\n",
       "\n",
       "    .dataframe tbody tr th {\n",
       "        vertical-align: top;\n",
       "    }\n",
       "\n",
       "    .dataframe thead th {\n",
       "        text-align: right;\n",
       "    }\n",
       "</style>\n",
       "<table border=\"1\" class=\"dataframe\">\n",
       "  <thead>\n",
       "    <tr style=\"text-align: right;\">\n",
       "      <th></th>\n",
       "      <th>id</th>\n",
       "      <th>date_added</th>\n",
       "      <th>rating</th>\n",
       "      <th>release_url</th>\n",
       "      <th>title</th>\n",
       "      <th>artist_names</th>\n",
       "      <th>artist_ids</th>\n",
       "      <th>release_year</th>\n",
       "      <th>label_ids</th>\n",
       "      <th>release_formats</th>\n",
       "      <th>genres</th>\n",
       "      <th>styles</th>\n",
       "      <th>username</th>\n",
       "    </tr>\n",
       "  </thead>\n",
       "  <tbody>\n",
       "    <tr>\n",
       "      <th>0</th>\n",
       "      <td>4511340</td>\n",
       "      <td>2013-07-19T20:53:21-07:00</td>\n",
       "      <td>0</td>\n",
       "      <td>https://api.discogs.com/releases/4511340</td>\n",
       "      <td>Thr!!!er</td>\n",
       "      <td>['!!!']</td>\n",
       "      <td>[207714]</td>\n",
       "      <td>2013</td>\n",
       "      <td>[23528]</td>\n",
       "      <td>['Vinyl']</td>\n",
       "      <td>['Electronic', 'Rock']</td>\n",
       "      <td>['Indie Pop', 'Post Rock', 'No Wave']</td>\n",
       "      <td>Woddd</td>\n",
       "    </tr>\n",
       "    <tr>\n",
       "      <th>1</th>\n",
       "      <td>16107</td>\n",
       "      <td>2016-02-05T11:16:32-08:00</td>\n",
       "      <td>0</td>\n",
       "      <td>https://api.discogs.com/releases/16107</td>\n",
       "      <td>Paper Moon</td>\n",
       "      <td>['51 Days']</td>\n",
       "      <td>[637]</td>\n",
       "      <td>1994</td>\n",
       "      <td>[2557]</td>\n",
       "      <td>['Vinyl']</td>\n",
       "      <td>['Electronic']</td>\n",
       "      <td>['Deep House', 'Tech House']</td>\n",
       "      <td>Woddd</td>\n",
       "    </tr>\n",
       "    <tr>\n",
       "      <th>2</th>\n",
       "      <td>9579770</td>\n",
       "      <td>2017-07-04T23:40:06-07:00</td>\n",
       "      <td>0</td>\n",
       "      <td>https://api.discogs.com/releases/9579770</td>\n",
       "      <td>We Got It From Here…Thank You 4 Your Service</td>\n",
       "      <td>['A Tribe Called Quest']</td>\n",
       "      <td>[3268]</td>\n",
       "      <td>2017</td>\n",
       "      <td>[1005, 25487]</td>\n",
       "      <td>['Vinyl']</td>\n",
       "      <td>['Hip Hop']</td>\n",
       "      <td>['Conscious']</td>\n",
       "      <td>Woddd</td>\n",
       "    </tr>\n",
       "    <tr>\n",
       "      <th>3</th>\n",
       "      <td>3489469</td>\n",
       "      <td>2016-01-06T13:44:29-08:00</td>\n",
       "      <td>0</td>\n",
       "      <td>https://api.discogs.com/releases/3489469</td>\n",
       "      <td>Udacha 1</td>\n",
       "      <td>['A5']</td>\n",
       "      <td>[920459]</td>\n",
       "      <td>2012</td>\n",
       "      <td>[369558]</td>\n",
       "      <td>['Vinyl']</td>\n",
       "      <td>['Electronic']</td>\n",
       "      <td>['Deep House']</td>\n",
       "      <td>Woddd</td>\n",
       "    </tr>\n",
       "    <tr>\n",
       "      <th>4</th>\n",
       "      <td>1957318</td>\n",
       "      <td>2015-02-25T11:10:16-08:00</td>\n",
       "      <td>0</td>\n",
       "      <td>https://api.discogs.com/releases/1957318</td>\n",
       "      <td>Time EP</td>\n",
       "      <td>['Above Smoke']</td>\n",
       "      <td>[338406]</td>\n",
       "      <td>2009</td>\n",
       "      <td>[30041]</td>\n",
       "      <td>['Vinyl']</td>\n",
       "      <td>['Electronic']</td>\n",
       "      <td>['Deep House']</td>\n",
       "      <td>Woddd</td>\n",
       "    </tr>\n",
       "  </tbody>\n",
       "</table>\n",
       "</div>"
      ],
      "text/plain": [
       "        id                 date_added  rating  \\\n",
       "0  4511340  2013-07-19T20:53:21-07:00       0   \n",
       "1    16107  2016-02-05T11:16:32-08:00       0   \n",
       "2  9579770  2017-07-04T23:40:06-07:00       0   \n",
       "3  3489469  2016-01-06T13:44:29-08:00       0   \n",
       "4  1957318  2015-02-25T11:10:16-08:00       0   \n",
       "\n",
       "                                release_url  \\\n",
       "0  https://api.discogs.com/releases/4511340   \n",
       "1    https://api.discogs.com/releases/16107   \n",
       "2  https://api.discogs.com/releases/9579770   \n",
       "3  https://api.discogs.com/releases/3489469   \n",
       "4  https://api.discogs.com/releases/1957318   \n",
       "\n",
       "                                          title              artist_names  \\\n",
       "0                                      Thr!!!er                   ['!!!']   \n",
       "1                                    Paper Moon               ['51 Days']   \n",
       "2  We Got It From Here…Thank You 4 Your Service  ['A Tribe Called Quest']   \n",
       "3                                      Udacha 1                    ['A5']   \n",
       "4                                       Time EP           ['Above Smoke']   \n",
       "\n",
       "  artist_ids  release_year      label_ids release_formats  \\\n",
       "0   [207714]          2013        [23528]       ['Vinyl']   \n",
       "1      [637]          1994         [2557]       ['Vinyl']   \n",
       "2     [3268]          2017  [1005, 25487]       ['Vinyl']   \n",
       "3   [920459]          2012       [369558]       ['Vinyl']   \n",
       "4   [338406]          2009        [30041]       ['Vinyl']   \n",
       "\n",
       "                   genres                                 styles username  \n",
       "0  ['Electronic', 'Rock']  ['Indie Pop', 'Post Rock', 'No Wave']    Woddd  \n",
       "1          ['Electronic']           ['Deep House', 'Tech House']    Woddd  \n",
       "2             ['Hip Hop']                          ['Conscious']    Woddd  \n",
       "3          ['Electronic']                         ['Deep House']    Woddd  \n",
       "4          ['Electronic']                         ['Deep House']    Woddd  "
      ]
     },
     "execution_count": 3,
     "metadata": {},
     "output_type": "execute_result"
    }
   ],
   "source": [
    "df.head()"
   ]
  },
  {
   "cell_type": "code",
   "execution_count": 15,
   "id": "1378c43e-1b03-48fc-bd9a-7695bc166c32",
   "metadata": {},
   "outputs": [
    {
     "data": {
      "text/plain": [
       "(27230, 13)"
      ]
     },
     "execution_count": 15,
     "metadata": {},
     "output_type": "execute_result"
    }
   ],
   "source": [
    "df.shape"
   ]
  },
  {
   "cell_type": "code",
   "execution_count": 32,
   "id": "a4db4cef-1f96-4190-a867-6319a5d5a016",
   "metadata": {},
   "outputs": [
    {
     "data": {
      "text/plain": [
       "array(['Woddd', 'alain.v2', 'aronhoebink', 'le_yems', 'danielkoves',\n",
       "       'sunnytrip', 'KillaCutz'], dtype=object)"
      ]
     },
     "execution_count": 32,
     "metadata": {},
     "output_type": "execute_result"
    }
   ],
   "source": [
    "df.username.unique()"
   ]
  },
  {
   "cell_type": "markdown",
   "id": "05125b9a-46e6-4ed4-88cb-df400f39e6c4",
   "metadata": {},
   "source": [
    "## Collecting all artist IDs"
   ]
  },
  {
   "cell_type": "code",
   "execution_count": 33,
   "id": "bd2b889a-02cb-44ba-abbd-1da75010f739",
   "metadata": {},
   "outputs": [],
   "source": [
    "nested_list = [eval(item) for item in df.loc[df.username != 'alain.v2'].artist_ids.tolist()]"
   ]
  },
  {
   "cell_type": "code",
   "execution_count": 34,
   "id": "85c917e7-6532-45b8-8dc7-c2d53bd58e34",
   "metadata": {},
   "outputs": [],
   "source": [
    "unique_list = list(set(list(itertools.chain.from_iterable(nested_list))))"
   ]
  },
  {
   "cell_type": "code",
   "execution_count": 35,
   "id": "2c8265bd-831a-4d18-bddf-2282c41d116a",
   "metadata": {},
   "outputs": [
    {
     "data": {
      "text/plain": [
       "3491"
      ]
     },
     "execution_count": 35,
     "metadata": {},
     "output_type": "execute_result"
    }
   ],
   "source": [
    "len(unique_list)"
   ]
  },
  {
   "cell_type": "code",
   "execution_count": 36,
   "id": "a8b96fb8-57c4-4433-8969-fe37b735128e",
   "metadata": {},
   "outputs": [],
   "source": [
    "with open('../../data/artists/unique_artist_ids.pkl', 'wb') as f:\n",
    "    pickle.dump(unique_list, f)"
   ]
  },
  {
   "cell_type": "markdown",
   "id": "cc103d81-d1ef-4e2b-b8bd-bb8632795f1f",
   "metadata": {},
   "source": [
    "## Getting releases of all artists"
   ]
  },
  {
   "cell_type": "code",
   "execution_count": 44,
   "id": "f13ac8f9-4ec7-43c3-8b23-e856102a5c82",
   "metadata": {},
   "outputs": [],
   "source": [
    "path_to_raw_files_dir = '../../data/artists/raw/'\n",
    "release_ids = []\n",
    "for file in os.listdir(path_to_raw_files_dir):\n",
    "    if file.endswith(\".json\"):\n",
    "        with open(os.path.join(path_to_raw_files_dir, file), 'r') as f:\n",
    "            artist = json.load(f)\n",
    "            ids = [release['id'] for release in artist if release['type'] == 'release']\n",
    "            release_ids.extend(ids)\n",
    "release_ids = list(set(release_ids))"
   ]
  },
  {
   "cell_type": "code",
   "execution_count": 45,
   "id": "8dd188eb-37a3-4a0e-8992-2a26c2574fd7",
   "metadata": {},
   "outputs": [
    {
     "data": {
      "text/plain": [
       "39869"
      ]
     },
     "execution_count": 45,
     "metadata": {},
     "output_type": "execute_result"
    }
   ],
   "source": [
    "len(release_ids)"
   ]
  },
  {
   "cell_type": "code",
   "execution_count": 46,
   "id": "62673045-8b73-43ea-9742-b0dcddf30a2f",
   "metadata": {},
   "outputs": [],
   "source": [
    "with open('../../data/releases/unique_release_ids.pkl', 'wb') as f:\n",
    "    pickle.dump(release_ids, f)"
   ]
  },
  {
   "cell_type": "markdown",
   "id": "e2a83d5f-c1b1-496f-a8e2-0736e473a2ca",
   "metadata": {},
   "source": [
    "## Creating flat release file"
   ]
  },
  {
   "cell_type": "code",
   "execution_count": 5,
   "id": "0135d3d4-2cdd-43c6-a53e-4717fb9ff23c",
   "metadata": {},
   "outputs": [],
   "source": [
    "import sys\n",
    "sys.path.insert(0, '/Users/yemiogoundele/Desktop/Projects/DS/vinyl-marketplace/vinyl-record-prices/vinyl_record_scraper')\n",
    "from process_releases import create_flat_release_table"
   ]
  },
  {
   "cell_type": "code",
   "execution_count": 6,
   "id": "f4cd240d-07ac-42da-9c82-c9be1f2b1be9",
   "metadata": {},
   "outputs": [],
   "source": [
    "    create_flat_release_table(path_to_release_files='../../data/releases/raw/', path_to_flat_table_file='../../data/releases/flat/releases.csv')\n",
    "    "
   ]
  },
  {
   "cell_type": "code",
   "execution_count": null,
   "id": "522959bf-4e71-4d9e-8ba6-ed97d6c00bc2",
   "metadata": {},
   "outputs": [],
   "source": []
  },
  {
   "cell_type": "code",
   "execution_count": null,
   "id": "d1732df8-84c3-4265-9400-3aa51e7fdd93",
   "metadata": {},
   "outputs": [],
   "source": []
  }
 ],
 "metadata": {
  "kernelspec": {
   "display_name": "Python 3 (ipykernel)",
   "language": "python",
   "name": "python3"
  },
  "language_info": {
   "codemirror_mode": {
    "name": "ipython",
    "version": 3
   },
   "file_extension": ".py",
   "mimetype": "text/x-python",
   "name": "python",
   "nbconvert_exporter": "python",
   "pygments_lexer": "ipython3",
   "version": "3.9.0"
  }
 },
 "nbformat": 4,
 "nbformat_minor": 5
}
